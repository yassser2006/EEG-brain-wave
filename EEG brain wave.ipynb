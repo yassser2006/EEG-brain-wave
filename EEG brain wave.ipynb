{
 "cells": [
  {
   "cell_type": "markdown",
   "metadata": {},
   "source": [
    "### Importing some required libraries for the work"
   ]
  },
  {
   "cell_type": "code",
   "execution_count": 25,
   "metadata": {},
   "outputs": [],
   "source": [
    "import pandas\n",
    "import matplotlib.pyplot as plt\n",
    "import sklearn\n",
    "import seaborn as sns\n",
    "from sklearn.model_selection import train_test_split"
   ]
  },
  {
   "cell_type": "markdown",
   "metadata": {},
   "source": [
    "### Importing the data from the to a pandas data frame"
   ]
  },
  {
   "cell_type": "code",
   "execution_count": 27,
   "metadata": {},
   "outputs": [
    {
     "data": {
      "text/html": [
       "<div>\n",
       "<style scoped>\n",
       "    .dataframe tbody tr th:only-of-type {\n",
       "        vertical-align: middle;\n",
       "    }\n",
       "\n",
       "    .dataframe tbody tr th {\n",
       "        vertical-align: top;\n",
       "    }\n",
       "\n",
       "    .dataframe thead th {\n",
       "        text-align: right;\n",
       "    }\n",
       "</style>\n",
       "<table border=\"1\" class=\"dataframe\">\n",
       "  <thead>\n",
       "    <tr style=\"text-align: right;\">\n",
       "      <th></th>\n",
       "      <th>SubjectID</th>\n",
       "      <th>VideoID</th>\n",
       "      <th>Attention</th>\n",
       "      <th>Mediation</th>\n",
       "      <th>Raw</th>\n",
       "      <th>Delta</th>\n",
       "      <th>Theta</th>\n",
       "      <th>Alpha1</th>\n",
       "      <th>Alpha2</th>\n",
       "      <th>Beta1</th>\n",
       "      <th>Beta2</th>\n",
       "      <th>Gamma1</th>\n",
       "      <th>Gamma2</th>\n",
       "      <th>predefinedlabel</th>\n",
       "      <th>user-definedlabeln</th>\n",
       "    </tr>\n",
       "  </thead>\n",
       "  <tbody>\n",
       "    <tr>\n",
       "      <th>0</th>\n",
       "      <td>0.0</td>\n",
       "      <td>0.0</td>\n",
       "      <td>56.0</td>\n",
       "      <td>43.0</td>\n",
       "      <td>278.0</td>\n",
       "      <td>301963.0</td>\n",
       "      <td>90612.0</td>\n",
       "      <td>33735.0</td>\n",
       "      <td>23991.0</td>\n",
       "      <td>27946.0</td>\n",
       "      <td>45097.0</td>\n",
       "      <td>33228.0</td>\n",
       "      <td>8293.0</td>\n",
       "      <td>0.0</td>\n",
       "      <td>0.0</td>\n",
       "    </tr>\n",
       "    <tr>\n",
       "      <th>1</th>\n",
       "      <td>0.0</td>\n",
       "      <td>0.0</td>\n",
       "      <td>40.0</td>\n",
       "      <td>35.0</td>\n",
       "      <td>-50.0</td>\n",
       "      <td>73787.0</td>\n",
       "      <td>28083.0</td>\n",
       "      <td>1439.0</td>\n",
       "      <td>2240.0</td>\n",
       "      <td>2746.0</td>\n",
       "      <td>3687.0</td>\n",
       "      <td>5293.0</td>\n",
       "      <td>2740.0</td>\n",
       "      <td>0.0</td>\n",
       "      <td>0.0</td>\n",
       "    </tr>\n",
       "    <tr>\n",
       "      <th>2</th>\n",
       "      <td>0.0</td>\n",
       "      <td>0.0</td>\n",
       "      <td>47.0</td>\n",
       "      <td>48.0</td>\n",
       "      <td>101.0</td>\n",
       "      <td>758353.0</td>\n",
       "      <td>383745.0</td>\n",
       "      <td>201999.0</td>\n",
       "      <td>62107.0</td>\n",
       "      <td>36293.0</td>\n",
       "      <td>130536.0</td>\n",
       "      <td>57243.0</td>\n",
       "      <td>25354.0</td>\n",
       "      <td>0.0</td>\n",
       "      <td>0.0</td>\n",
       "    </tr>\n",
       "    <tr>\n",
       "      <th>3</th>\n",
       "      <td>0.0</td>\n",
       "      <td>0.0</td>\n",
       "      <td>47.0</td>\n",
       "      <td>57.0</td>\n",
       "      <td>-5.0</td>\n",
       "      <td>2012240.0</td>\n",
       "      <td>129350.0</td>\n",
       "      <td>61236.0</td>\n",
       "      <td>17084.0</td>\n",
       "      <td>11488.0</td>\n",
       "      <td>62462.0</td>\n",
       "      <td>49960.0</td>\n",
       "      <td>33932.0</td>\n",
       "      <td>0.0</td>\n",
       "      <td>0.0</td>\n",
       "    </tr>\n",
       "    <tr>\n",
       "      <th>4</th>\n",
       "      <td>0.0</td>\n",
       "      <td>0.0</td>\n",
       "      <td>44.0</td>\n",
       "      <td>53.0</td>\n",
       "      <td>-8.0</td>\n",
       "      <td>1005145.0</td>\n",
       "      <td>354328.0</td>\n",
       "      <td>37102.0</td>\n",
       "      <td>88881.0</td>\n",
       "      <td>45307.0</td>\n",
       "      <td>99603.0</td>\n",
       "      <td>44790.0</td>\n",
       "      <td>29749.0</td>\n",
       "      <td>0.0</td>\n",
       "      <td>0.0</td>\n",
       "    </tr>\n",
       "  </tbody>\n",
       "</table>\n",
       "</div>"
      ],
      "text/plain": [
       "   SubjectID  VideoID  Attention  Mediation    Raw      Delta     Theta  \\\n",
       "0        0.0      0.0       56.0       43.0  278.0   301963.0   90612.0   \n",
       "1        0.0      0.0       40.0       35.0  -50.0    73787.0   28083.0   \n",
       "2        0.0      0.0       47.0       48.0  101.0   758353.0  383745.0   \n",
       "3        0.0      0.0       47.0       57.0   -5.0  2012240.0  129350.0   \n",
       "4        0.0      0.0       44.0       53.0   -8.0  1005145.0  354328.0   \n",
       "\n",
       "     Alpha1   Alpha2    Beta1     Beta2   Gamma1   Gamma2  predefinedlabel  \\\n",
       "0   33735.0  23991.0  27946.0   45097.0  33228.0   8293.0              0.0   \n",
       "1    1439.0   2240.0   2746.0    3687.0   5293.0   2740.0              0.0   \n",
       "2  201999.0  62107.0  36293.0  130536.0  57243.0  25354.0              0.0   \n",
       "3   61236.0  17084.0  11488.0   62462.0  49960.0  33932.0              0.0   \n",
       "4   37102.0  88881.0  45307.0   99603.0  44790.0  29749.0              0.0   \n",
       "\n",
       "   user-definedlabeln  \n",
       "0                 0.0  \n",
       "1                 0.0  \n",
       "2                 0.0  \n",
       "3                 0.0  \n",
       "4                 0.0  "
      ]
     },
     "execution_count": 27,
     "metadata": {},
     "output_type": "execute_result"
    }
   ],
   "source": [
    "df = pandas.read_csv(\"EEG_data.csv\")\n",
    "df.head(5)"
   ]
  },
  {
   "cell_type": "markdown",
   "metadata": {},
   "source": [
    "### investigating the data"
   ]
  },
  {
   "cell_type": "code",
   "execution_count": 28,
   "metadata": {},
   "outputs": [
    {
     "name": "stdout",
     "output_type": "stream",
     "text": [
      "Index(['SubjectID', 'VideoID', 'Attention', 'Mediation', 'Raw', 'Delta',\n",
      "       'Theta', 'Alpha1', 'Alpha2', 'Beta1', 'Beta2', 'Gamma1', 'Gamma2',\n",
      "       'predefinedlabel', 'user-definedlabeln'],\n",
      "      dtype='object')\n"
     ]
    },
    {
     "data": {
      "text/plain": [
       "(12811, 15)"
      ]
     },
     "execution_count": 28,
     "metadata": {},
     "output_type": "execute_result"
    }
   ],
   "source": [
    "print(df.columns)\n",
    "df.shape"
   ]
  },
  {
   "cell_type": "markdown",
   "metadata": {},
   "source": [
    "### Plotting a histogram for the data"
   ]
  },
  {
   "cell_type": "code",
   "execution_count": 29,
   "metadata": {},
   "outputs": [
    {
     "data": {
      "text/plain": [
       "array([[<matplotlib.axes._subplots.AxesSubplot object at 0x000000A6F877FDA0>,\n",
       "        <matplotlib.axes._subplots.AxesSubplot object at 0x000000A6F8B4EDD8>,\n",
       "        <matplotlib.axes._subplots.AxesSubplot object at 0x000000A6F8B26390>,\n",
       "        <matplotlib.axes._subplots.AxesSubplot object at 0x000000A6E8BC5908>],\n",
       "       [<matplotlib.axes._subplots.AxesSubplot object at 0x000000A6E8BEBE80>,\n",
       "        <matplotlib.axes._subplots.AxesSubplot object at 0x000000A6E8C17438>,\n",
       "        <matplotlib.axes._subplots.AxesSubplot object at 0x000000A6E8C3A9B0>,\n",
       "        <matplotlib.axes._subplots.AxesSubplot object at 0x000000A6E8C62F60>],\n",
       "       [<matplotlib.axes._subplots.AxesSubplot object at 0x000000A6E8C62F98>,\n",
       "        <matplotlib.axes._subplots.AxesSubplot object at 0x000000A6E8CB2A58>,\n",
       "        <matplotlib.axes._subplots.AxesSubplot object at 0x000000A6E8CDBFD0>,\n",
       "        <matplotlib.axes._subplots.AxesSubplot object at 0x000000A6F6715588>],\n",
       "       [<matplotlib.axes._subplots.AxesSubplot object at 0x000000A6F6739B00>,\n",
       "        <matplotlib.axes._subplots.AxesSubplot object at 0x000000A6F67690B8>,\n",
       "        <matplotlib.axes._subplots.AxesSubplot object at 0x000000A6F678C5F8>,\n",
       "        <matplotlib.axes._subplots.AxesSubplot object at 0x000000A6F67B1B70>]],\n",
       "      dtype=object)"
      ]
     },
     "execution_count": 29,
     "metadata": {},
     "output_type": "execute_result"
    },
    {
     "data": {
      "image/png": "[encoded data removed]",
      "text/plain": [
       "<Figure size 1440x1440 with 16 Axes>"
      ]
     },
     "metadata": {
      "needs_background": "light"
     },
     "output_type": "display_data"
    }
   ],
   "source": [
    "df.hist(figsize=(20,20))"
   ]
  },
  {
   "cell_type": "markdown",
   "metadata": {},
   "source": [
    "### Drawing heat map for the dat"
   ]
  },
  {
   "cell_type": "code",
   "execution_count": 30,
   "metadata": {},
   "outputs": [
    {
     "data": {
      "image/png": "[encoded data removed]",
      "text/plain": [
       "<Figure size 864x648 with 2 Axes>"
      ]
     },
     "metadata": {
      "needs_background": "light"
     },
     "output_type": "display_data"
    }
   ],
   "source": [
    "corrmat = df.corr()\n",
    "fig = plt.figure(figsize = (12,9))\n",
    "\n",
    "sns.heatmap(corrmat, vmax=1 , square = True)\n",
    "plt.show()"
   ]
  },
  {
   "cell_type": "markdown",
   "metadata": {},
   "source": [
    "### Prepaing data and divide it into target and features"
   ]
  },
  {
   "cell_type": "code",
   "execution_count": 31,
   "metadata": {},
   "outputs": [
    {
     "name": "stdout",
     "output_type": "stream",
     "text": [
      "user-definedlabeln\n",
      "Index(['SubjectID', 'VideoID', 'Attention', 'Mediation', 'Raw', 'Delta',\n",
      "       'Theta', 'Alpha1', 'Alpha2', 'Beta1', 'Beta2', 'Gamma1', 'Gamma2',\n",
      "       'predefinedlabel'],\n",
      "      dtype='object')\n"
     ]
    }
   ],
   "source": [
    "features = df.columns[:14]\n",
    "target = 'user-definedlabeln'\n",
    "\n",
    "print(target)\n",
    "print(features)"
   ]
  },
  {
   "cell_type": "markdown",
   "metadata": {},
   "source": [
    "### Scaling the data"
   ]
  },
  {
   "cell_type": "code",
   "execution_count": 32,
   "metadata": {},
   "outputs": [
    {
     "data": {
      "text/plain": [
       "(12811, 15)"
      ]
     },
     "execution_count": 32,
     "metadata": {},
     "output_type": "execute_result"
    }
   ],
   "source": [
    "df_scale = df\n",
    "df_scale[features] = (df[features] - df[features].mean()) / (df[features].max() - df[features].min())\n",
    "df_scale.shape"
   ]
  },
  {
   "cell_type": "markdown",
   "metadata": {},
   "source": [
    "### Splitting the data into Dev and Train"
   ]
  },
  {
   "cell_type": "code",
   "execution_count": 33,
   "metadata": {},
   "outputs": [
    {
     "name": "stdout",
     "output_type": "stream",
     "text": [
      "(10249, 15)\n",
      "(2562, 15)\n"
     ]
    }
   ],
   "source": [
    "train = df_scale.sample(frac=0.8, random_state=1)\n",
    "\n",
    "test = df_scale.loc[~df_norm.index.isin(train.index)]\n",
    "\n",
    "print(train.shape)\n",
    "print(test.shape)"
   ]
  },
  {
   "cell_type": "markdown",
   "metadata": {},
   "source": [
    "### Trying Support vector with rbf Kernel"
   ]
  },
  {
   "cell_type": "code",
   "execution_count": 34,
   "metadata": {},
   "outputs": [
    {
     "name": "stderr",
     "output_type": "stream",
     "text": [
      "E:\\Anaconda3\\lib\\site-packages\\sklearn\\svm\\base.py:196: FutureWarning: The default value of gamma will change from 'auto' to 'scale' in version 0.22 to account better for unscaled features. Set gamma explicitly to 'auto' or 'scale' to avoid this warning.\n",
      "  \"avoid this warning.\", FutureWarning)\n"
     ]
    },
    {
     "name": "stdout",
     "output_type": "stream",
     "text": [
      "0.38173302107728335\n",
      "0.6182669789227166\n",
      "              precision    recall  f1-score   support\n",
      "\n",
      "         0.0       0.59      0.67      0.63      1229\n",
      "         1.0       0.65      0.57      0.61      1333\n",
      "\n",
      "   micro avg       0.62      0.62      0.62      2562\n",
      "   macro avg       0.62      0.62      0.62      2562\n",
      "weighted avg       0.62      0.62      0.62      2562\n",
      "\n"
     ]
    }
   ],
   "source": [
    "from sklearn.metrics import mean_squared_error, classification_report, accuracy_score\n",
    "from sklearn import svm\n",
    "\n",
    "C = 1.0\n",
    "svc = svm.SVC(kernel='rbf', C=C).fit(train[features],train[target])\n",
    "pred = svc.predict(test[features])\n",
    "pred[pred>0.5] = 1\n",
    "pred[pred<0.5] = 0\n",
    "print(mean_squared_error(pred,test[target]))\n",
    "print(accuracy_score(test[target], pred))\n",
    "print(classification_report(test[target], pred))"
   ]
  },
  {
   "cell_type": "markdown",
   "metadata": {},
   "source": [
    "### Testing KNN after investigating different neighbors numbers and 3 obtained best results"
   ]
  },
  {
   "cell_type": "code",
   "execution_count": 35,
   "metadata": {},
   "outputs": [
    {
     "name": "stdout",
     "output_type": "stream",
     "text": [
      "0.05425448868071819\n",
      "0.9457455113192819\n",
      "              precision    recall  f1-score   support\n",
      "\n",
      "         0.0       0.96      0.93      0.94      1229\n",
      "         1.0       0.94      0.96      0.95      1333\n",
      "\n",
      "   micro avg       0.95      0.95      0.95      2562\n",
      "   macro avg       0.95      0.95      0.95      2562\n",
      "weighted avg       0.95      0.95      0.95      2562\n",
      "\n"
     ]
    }
   ],
   "source": [
    "from sklearn.neighbors import KNeighborsClassifier\n",
    "X_train = train[features]\n",
    "y_train = train[target]\n",
    "X_test = test[features]\n",
    "knn = KNeighborsClassifier(n_neighbors=3)\n",
    "knn.fit(X_train,y_train)\n",
    "pred = knn.predict(X_test)\n",
    "pred = [round(value) for value in pred]\n",
    "print(mean_squared_error(pred,test[target]))\n",
    "print(accuracy_score(test[target], pred))\n",
    "print(classification_report(test[target], pred))"
   ]
  },
  {
   "cell_type": "markdown",
   "metadata": {},
   "source": [
    "### Trying xgboost"
   ]
  },
  {
   "cell_type": "code",
   "execution_count": 36,
   "metadata": {},
   "outputs": [
    {
     "name": "stdout",
     "output_type": "stream",
     "text": [
      "0.09250585480093677\n",
      "0.9074941451990632\n",
      "              precision    recall  f1-score   support\n",
      "\n",
      "         0.0       0.96      0.84      0.90      1229\n",
      "         1.0       0.87      0.97      0.92      1333\n",
      "\n",
      "   micro avg       0.91      0.91      0.91      2562\n",
      "   macro avg       0.91      0.90      0.91      2562\n",
      "weighted avg       0.91      0.91      0.91      2562\n",
      "\n"
     ]
    }
   ],
   "source": [
    "import xgboost\n",
    "model = xgboost.XGBClassifier()\n",
    "model.fit(X_train, y_train)\n",
    "y_pred = model.predict(X_test)\n",
    "pred = [round(value) for value in y_pred]\n",
    "print(mean_squared_error(pred,test[target]))\n",
    "print(accuracy_score(test[target], pred))\n",
    "print(classification_report(test[target], pred))"
   ]
  },
  {
   "cell_type": "markdown",
   "metadata": {},
   "source": [
    "### Using a deep neural network to solve it"
   ]
  },
  {
   "cell_type": "code",
   "execution_count": 38,
   "metadata": {},
   "outputs": [],
   "source": [
    "import tensorflow as tf\n",
    "import numpy as np"
   ]
  },
  {
   "cell_type": "code",
   "execution_count": 94,
   "metadata": {},
   "outputs": [
    {
     "name": "stdout",
     "output_type": "stream",
     "text": [
      "Epoch 1/40\n",
      "10249/10249 [==============================] - 6s 541us/sample - loss: 0.2344\n",
      "Epoch 2/40\n",
      "10249/10249 [==============================] - 2s 164us/sample - loss: 0.2097s - los\n",
      "Epoch 3/40\n",
      "10249/10249 [==============================] - 1s 117us/sample - loss: 0.1886\n",
      "Epoch 4/40\n",
      "10249/10249 [==============================] - 1s 103us/sample - loss: 0.1634\n",
      "Epoch 5/40\n",
      "10249/10249 [==============================] - 1s 103us/sample - loss: 0.1424\n",
      "Epoch 6/40\n",
      "10249/10249 [==============================] - 1s 102us/sample - loss: 0.1228\n",
      "Epoch 7/40\n",
      "10249/10249 [==============================] - 1s 103us/sample - loss: 0.1083\n",
      "Epoch 8/40\n",
      "10249/10249 [==============================] - 1s 121us/sample - loss: 0.0954\n",
      "Epoch 9/40\n",
      "10249/10249 [==============================] - 1s 110us/sample - loss: 0.0841\n",
      "Epoch 10/40\n",
      "10249/10249 [==============================] - 1s 121us/sample - loss: 0.0766\n",
      "Epoch 11/40\n",
      "10249/10249 [==============================] - 1s 128us/sample - loss: 0.0673\n",
      "Epoch 12/40\n",
      "10249/10249 [==============================] - 1s 126us/sample - loss: 0.0596\n",
      "Epoch 13/40\n",
      "10249/10249 [==============================] - 1s 131us/sample - loss: 0.0557\n",
      "Epoch 14/40\n",
      "10249/10249 [==============================] - 1s 134us/sample - loss: 0.0512\n",
      "Epoch 15/40\n",
      "10249/10249 [==============================] - 1s 140us/sample - loss: 0.0465\n",
      "Epoch 16/40\n",
      "10249/10249 [==============================] - 1s 119us/sample - loss: 0.0430\n",
      "Epoch 17/40\n",
      "10249/10249 [==============================] - 1s 136us/sample - loss: 0.0380\n",
      "Epoch 18/40\n",
      "10249/10249 [==============================] - 1s 129us/sample - loss: 0.0369\n",
      "Epoch 19/40\n",
      "10249/10249 [==============================] - 1s 121us/sample - loss: 0.0307\n",
      "Epoch 20/40\n",
      "10249/10249 [==============================] - 2s 154us/sample - loss: 0.0290\n",
      "Epoch 21/40\n",
      "10249/10249 [==============================] - 2s 161us/sample - loss: 0.0274\n",
      "Epoch 22/40\n",
      "10249/10249 [==============================] - 1s 145us/sample - loss: 0.0213\n",
      "Epoch 23/40\n",
      "10249/10249 [==============================] - 1s 139us/sample - loss: 0.0204\n",
      "Epoch 24/40\n",
      "10249/10249 [==============================] - 1s 144us/sample - loss: 0.0171\n",
      "Epoch 25/40\n",
      "10249/10249 [==============================] - 2s 162us/sample - loss: 0.0156\n",
      "Epoch 26/40\n",
      "10249/10249 [==============================] - 1s 145us/sample - loss: 0.0120\n",
      "Epoch 27/40\n",
      "10249/10249 [==============================] - 1s 136us/sample - loss: 0.0137\n",
      "Epoch 28/40\n",
      "10249/10249 [==============================] - 1s 144us/sample - loss: 0.0117\n",
      "Epoch 29/40\n",
      "10249/10249 [==============================] - 2s 153us/sample - loss: 0.0086\n",
      "Epoch 30/40\n",
      "10249/10249 [==============================] - 2s 149us/sample - loss: 0.0088\n",
      "Epoch 31/40\n",
      "10249/10249 [==============================] - 2s 150us/sample - loss: 0.0064\n",
      "Epoch 32/40\n",
      "10249/10249 [==============================] - 2s 161us/sample - loss: 0.0068\n",
      "Epoch 33/40\n",
      "10249/10249 [==============================] - 2s 163us/sample - loss: 0.0069\n",
      "Epoch 34/40\n",
      "10249/10249 [==============================] - 2s 168us/sample - loss: 0.0071\n",
      "Epoch 35/40\n",
      "10249/10249 [==============================] - 2s 166us/sample - loss: 0.0052\n",
      "Epoch 36/40\n",
      "10249/10249 [==============================] - 2s 161us/sample - loss: 0.0037\n",
      "Epoch 37/40\n",
      "10249/10249 [==============================] - 2s 169us/sample - loss: 0.0041s - l\n",
      "Epoch 38/40\n",
      "10249/10249 [==============================] - 2s 163us/sample - loss: 0.0038\n",
      "Epoch 39/40\n",
      "10249/10249 [==============================] - 1s 143us/sample - loss: 0.0028\n",
      "Epoch 40/40\n",
      "10249/10249 [==============================] - 2s 153us/sample - loss: 0.0013\n",
      "2562/2562 [==============================] - 1s 225us/sample - loss: 0.0027\n",
      "0.9973472798318747\n"
     ]
    }
   ],
   "source": [
    "model = tf.keras.models.Sequential([\n",
    "  tf.keras.layers.Flatten(),\n",
    "  tf.keras.layers.Dense(50, activation=tf.nn.relu),\n",
    "  tf.keras.layers.Dense(25, activation=tf.nn.relu),\n",
    "  tf.keras.layers.Dense(8, activation=tf.nn.relu),\n",
    "  tf.keras.layers.Dense(3, activation=tf.nn.relu),\n",
    "  tf.keras.layers.Dense(1, activation=tf.nn.sigmoid)\n",
    "])\n",
    "model.compile(optimizer='adam', loss='mean_squared_error')\n",
    "model.fit(X_train.values, y_train.values, epochs=40)\n",
    "test_acc = model.evaluate(test[features].values, test[target].values)\n",
    "print(1-test_acc)"
   ]
  },
  {
   "cell_type": "code",
   "execution_count": 100,
   "metadata": {},
   "outputs": [
    {
     "name": "stdout",
     "output_type": "stream",
     "text": [
      "0.00273224043715847\n",
      "0.9972677595628415\n",
      "              precision    recall  f1-score   support\n",
      "\n",
      "         0.0       1.00      1.00      1.00      1229\n",
      "         1.0       1.00      1.00      1.00      1333\n",
      "\n",
      "   micro avg       1.00      1.00      1.00      2562\n",
      "   macro avg       1.00      1.00      1.00      2562\n",
      "weighted avg       1.00      1.00      1.00      2562\n",
      "\n"
     ]
    }
   ],
   "source": [
    "from sklearn.metrics import mean_squared_error, classification_report, accuracy_score\n",
    "predi = model.predict(test[features].values)\n",
    "predi[predi>0.5] = 1\n",
    "predi[predi<0.5] = 0\n",
    "print(mean_squared_error(predi,test[target].values))\n",
    "print(accuracy_score(test[target].values, predi))\n",
    "print(classification_report(test[target].values, predi))\n",
    "        "
   ]
  },
  {
   "cell_type": "markdown",
   "metadata": {},
   "source": [
    "# Conclusion after trying trying three algorithms the result \n",
    "\n",
    "## SVM got 61.8% Accuracy\n",
    "\n",
    "## Xgboost 90.7% Accuracy\n",
    "\n",
    "## KNN        94.5% Accuracy\n",
    "\n",
    "## DNN         99.73% Accuracy with 0 missmatch on the test data"
   ]
  }
 ],
 "metadata": {
  "kernelspec": {
   "display_name": "Python 3",
   "language": "python",
   "name": "python3"
  },
  "language_info": {
   "codemirror_mode": {
    "name": "ipython",
    "version": 3
   },
   "file_extension": ".py",
   "mimetype": "text/x-python",
   "name": "python",
   "nbconvert_exporter": "python",
   "pygments_lexer": "ipython3",
   "version": "3.7.1"
  }
 },
 "nbformat": 4,
 "nbformat_minor": 2
}
